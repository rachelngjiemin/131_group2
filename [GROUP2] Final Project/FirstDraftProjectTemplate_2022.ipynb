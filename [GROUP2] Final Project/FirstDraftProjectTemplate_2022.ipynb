{
 "cells": [
  {
   "cell_type": "markdown",
   "metadata": {},
   "source": [
    "# ER131 First Draft Project Template\n",
    "\n",
    "Fall 2022\n",
    "\n",
    "## How to use this notebook: \n",
    "* Follow the format and sequencing of sections\n",
    "* Edit the markdown cells to be specific to your project.\n",
    "* Put the code you use to accomplish the tasks of each section in between each markdown cell.\n",
    "* Delete this cell before you hand in the notebook\n",
    "* As with homeworks, you'll hand in a `.ipynb` file and a `.pdf` file; we'll also ask you to make your data available.\n",
    "\n",
    "## Basic First Draft Requirements \n",
    "**Grading**.  You'll see point allocations listed in each of the section titles below.  In addition, there are other categories for points: \n",
    "1. (4 points) Build your first dataframe including at least on target variable and a set of features.  In a markdown cell, clearly explain what the target variable is, what each row represents, and what the features are.  Provide a summary of the entries in the dataframe (e.g. using a few plots and `pd.describe`)\n",
    "2. (4 points) Choose and justify a type of prediction model to train.  (E.g. lasso, or random forests.)\n",
    "4. (4 points) Generate a test-train split.  Then cross validate the model with the training data to tune at least one hyperparameter.\n",
    "3. (4 points) Evaluate how well the prediction model performs on test data. \n",
    "5. (4 points) For clarity.  Use markdown cells to clearly and concisely explain what you are doing and your justification for your decisions.  Keep your code clean and readable and well commented.  \n",
    "\n",
    "We are looking for progress and not perfection. In each category we'll score 1 point for completion, 2 points for demonstrating some understanding, 3 points for just a few mistakes, 4 points for demonstrating mastery.\n",
    "\n",
    "## (delete this markdown cell in your final submission)"
   ]
  },
  {
   "cell_type": "markdown",
   "metadata": {},
   "source": [
    "# YOUR TITLE HERE\n",
    "\n",
    "In this cell, replace the text above with your project title.  \n",
    "\n",
    "Then give an alphabetical (by last name) list of student group members.  Beside each student's name, provide an estimate of the number of hours each student put into the effort, anbd a description of each student's contribution to the project.  For example:\n",
    "\n",
    "* Duncan Callaway (2 hours). developed template including overall workflow, specific tasks, and scoring rubric\n",
    "* Julia Longmate (1 hours). checked template for clarity and provided suggestions on improvements\n",
    "\n",
    "If one person did most of the work, or one person did very little work, talk openly about that as a team and make a plan to even the workload going forward.  Contact Duncan or Julia if you are not able to agree on how much work each person did, or to make a plan going forward."
   ]
  },
  {
   "cell_type": "markdown",
   "metadata": {},
   "source": [
    "## Build your first dataframe (4 points)\n",
    "Build your first dataframe including at least on target variable and a set of features.  In a markdown cell, clearly explain what the target variable is, what each row represents, and what the features are.  Provide a summary of the entries in the dataframe (e.g. using a few plots and `pd.describe`).\n",
    "\n",
    "This section should briefly explain where you got your data and what you've done to manipulate it.  The final project will ask for much more information here."
   ]
  },
  {
   "cell_type": "markdown",
   "metadata": {},
   "source": [
    "## Prediction model (4 points)\n",
    "Choose and justify a prediction model for this application.  This section can be short, but well-reasoned!"
   ]
  },
  {
   "cell_type": "markdown",
   "metadata": {},
   "source": [
    "## Training and cross validation (4 points)\n",
    "Generate a test-train split.  Then train and cross validate your model with the training data to tune at least one hyperparameter."
   ]
  },
  {
   "cell_type": "markdown",
   "metadata": {},
   "source": [
    "## Evaluation and next steps (4 points)\n",
    "Evaluate how well the prediction model performs on test data.  Rationalize the metric(s) you use to measure performance.  Be critical of your work!  It's ok if the model performs poorly. Talk about next steps.   "
   ]
  },
  {
   "cell_type": "markdown",
   "metadata": {},
   "source": [
    "## Clarity (4 points)\n",
    "This cell is here to make sure you don't forget.  You can delete it before you hand in your assignment.  \n",
    "\n",
    "Use markdown cells to clearly and concisely explain what you are doing and your justification for your decisions.  Keep your code clean and readable and well commented.  "
   ]
  }
 ],
 "metadata": {
  "kernelspec": {
   "display_name": "Python 3 (ipykernel)",
   "language": "python",
   "name": "python3"
  },
  "language_info": {
   "codemirror_mode": {
    "name": "ipython",
    "version": 3
   },
   "file_extension": ".py",
   "mimetype": "text/x-python",
   "name": "python",
   "nbconvert_exporter": "python",
   "pygments_lexer": "ipython3",
   "version": "3.9.13"
  }
 },
 "nbformat": 4,
 "nbformat_minor": 2
}
