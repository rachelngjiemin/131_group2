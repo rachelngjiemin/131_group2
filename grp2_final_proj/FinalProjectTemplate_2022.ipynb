{
 "cells": [
  {
   "cell_type": "markdown",
   "metadata": {},
   "source": [
    "# ER131 Final Project Template\n",
    "Fall 2022\n",
    "\n",
    "## How to use this notebook: \n",
    "* Follow the formate and sequencing of sections\n",
    "* Edit the markdown cells to be specific to your project.\n",
    "* Put the code you use to accomplish the tasks of each section in between each markdown cell.\n",
    "* Delete this cell before you hand in the notebook\n",
    "* As with homeworks, you'll hand in a `.ipynb` file and a `.pdf` file; we'll also ask you to make your data available. "
   ]
  },
  {
   "cell_type": "markdown",
   "metadata": {},
   "source": [
    "# Predicting Outlier Engery Consumption in On-campus Housing using building energy and weather data\n",
    "\n",
    "In this cell, replace the text above with your project title.  Then give an alphabetical (by last name) list of student group members.  Beside each student's name, provide a description of each student's contribution to the project, and an estimate of the number of hours each student put into the effort.  \n",
    "\n",
    "Group composition: \n",
    "* We would like every group to be three people. Groups shall be no more than four; graduate student groups can be two people with permission.    \n",
    "* We recommend that you have a mix of students from across colleges / majors (e.g. CNR, CS, Data Science, Engineering, L&S).   "
   ]
  },
  {
   "cell_type": "markdown",
   "metadata": {},
   "source": [
    "## Basic Project Requirements (delete this markdown cell in your final submission)\n",
    "\n",
    "**How to use this notebook**:  This notebook is the template for your semester project.  Each markdown cell provides instructions on what to do in order to complete a successful project.  The cell you're reading right now is the only one you can delete from what you eventually hand in.  For the other cells:\n",
    "1. You may replace the instructions in each cell with your own work but do not edit the cell titles (with the exception of the project title, above).  \n",
    "2. Follow the instructions in each section carefully.  For some sections you will enter only markdown text in the existing cells. For other sections, you'll accompany the markdown cells with additional code cells, and perhaps more markdown, before moving on to the next section.  \n",
    "\n",
    "**Grading**.  You'll see point allocations listed in each of the section titles below.  In addition, there are other categories for points: \n",
    "1. Abstract (5 points).\n",
    "2. Project backround (5 points).\n",
    "3. Project objective (5 points).\n",
    "4. Data description (5 points).\n",
    "5. Data cleaning (10 points).\n",
    "6. EDA (10 points).\n",
    "7. Forecasting and Prediction Modeling (25 points).\n",
    "8. Interpretation and Conclusions (20 points).\n",
    "2. Visualization (10 points).  Plots should be well organized, legible, labelled, and well-suited for the question they are being used to answer or explore.  \n",
    "2. Clarity (5 points). Note that clarity also supports points elsewhere, because if we can't understand what you're explaining, we'll assume you didn't understand what you were doing and give points accordingly!  \n",
    "\n",
    "For each Section or Category, we will give points according to the following percentage scale:\n",
    "1. More than 90%:  work that is free of anything but superficial mistakes, and demonstrates creativity and / or a very deep understanding of what you are doing.\n",
    "2. 80-90%: work without fundamental errors and demonstrates a basic understanding of what you're doing.\n",
    "3. 60-80%: work with fundamental flaws in the analysis and / or conveys that you do not understand the basics of the work you are trying to do.\n",
    "4. Below 60%: Work that is severely lacking or incomplete.  \n",
    "\n",
    "Note that we distinguish *mistakes* from *\"my idea didn't work\"*.  Sometimes you don't know if you can actually do the thing you're trying to do and as you dig in you find that you can't.  That doesn't necessarily mean you made a mistake; it might just mean you needed more information.  We'll still give high marks to ambitious projects that \"fail\" at their stated objective, as long as that objective was clear and you demonstrate an understanding of what you were doing and why it didn't work.\n",
    "\n",
    "**Number of prediction questions:**  The number of prediction questions must be greater than or equal to $N_s-1$, the number of students in the team minus one.  (A 3 person team would need to explore 3-1 = 2 questions.)  Questions should be related, but have distinct work efforts, interpretation and analysis. An example: for land use regression, you could have a core prediction question (what is pollution concentration on a fine spatial scale), a supporting question that explore how the degree of spatial aggregation influences prediction quality, plus a prediction model that explores *temporal* prediction at one point in space.  There is a lot of flexibility here; if you have any doubt about whether your questions are distinct, consult with the instructors.\n",
    "\n",
    "**Data requirements**:  Projects must use data from a minimum of $N_s+1$ different sources ($N_s$ is the number of students in the group).  You should *merge* at least two data sets. </font>\n",
    "\n",
    "**Starting data**: To help contain your scope early on, we are providing you with several data sets to start your journey with.  Please go to [this directory](https://datahub.berkeley.edu/user/dcal/tree/ER131_2022_public/project) in datahub; each folder contains a different starter notebook and data. \n",
    "\n",
    "**Additional suggested data sets**: See the last markdown cell of this notebook for some suggestions."
   ]
  },
  {
   "cell_type": "markdown",
   "metadata": {},
   "source": [
    "## Abstract (5 points)\n",
    "Although this section comes first, you'll write it last.  It should be a ~250 word summary of your project.  1/3rd of the abstract should provide background, 1/3rd should explain what you did, and 1/3rd should explain what you learned."
   ]
  },
  {
   "cell_type": "markdown",
   "metadata": {},
   "source": [
    "## Project Background (5 points)\n",
    "In this section you will describe relevant background for your project.  It should give enough information that a non-expert can understand in detail the history and / or context of the system or setting you wish to study, the need for quantitative analysis, and, broadly, what impact a quantitative analyses could have on the system.  Shoot for 500 words here."
   ]
  },
  {
   "cell_type": "markdown",
   "metadata": {},
   "source": [
    "## Project Objective (5 points)\n",
    "In this section you will pose the central objective or objectives for your semester project.  Objectives should be extremely clear, well-defined and clearly cast as forecasting problems.  \n",
    "\n",
    "Some example questions: \n",
    "1. *\"The purpose of this project is to train and evaluate different models to predict soil heavy metal contamination levels across the state of Louisiana, using a variety of features drawn from EPA, the US Census, and NAICS databases.\"* or\n",
    "2. *\"The purpose of this project is to train and evaluate different models to predict 1-minute generation from a UCSD solar PV site, up to 2 hours into the future, using historical data as well as basic weather forecast variables.*\" or\n",
    "3. *\"The purpose of this project is to forecast daily emergency room visits for cardiac problems in 4 major US cities, using a majority of features including air quality forecasts, weather forecasts and seasonal variables.\"*\n",
    "\n",
    "You should reflect here on why it's important to answer these questions.  In most cases this will mean that you'll frame the answers to your questions as informing one or more *resource allocation* problems.  If you have done a good job of providing project background (in the cell above) then this reflection will be short and easy to write.\n",
    "\n",
    "**Comment on novelty:** You may find it hard to identify a project question that has *never* been answered before.  It's ok if you take inspiration from existing analyses.  However you shouldn't exactly reproduce someone else's analysis.  If you take inspiration from another analyses, you should still use different models, different data, and so on."
   ]
  },
  {
   "cell_type": "code",
   "execution_count": 1,
   "metadata": {},
   "outputs": [],
   "source": [
    "# imports \n",
    "import pandas as pd \n",
    "import numpy as np"
   ]
  },
  {
   "cell_type": "markdown",
   "metadata": {},
   "source": [
    "## Input Data Description (5 points)\n",
    "Here you will provide an initial description of your data sets, including:\n",
    "1. The origins of your data.  Where did you get the data?  How were the data collected from the original sources?\n",
    "2. The structure, granularity, scope, temporality and faithfulness (SGSTF) of your data.  To discuss these attributes you should load the data into one or more data frames (so you'll start building code cells for the first time).  At a minimum, use some basic methods (`.head`, `.loc`, and so on) to provide support for the descriptions you provide for SGSTF. \n",
    "3. You should also describe which data fields you will use as your target variables, and which you will use as features.  "
   ]
  },
  {
   "cell_type": "markdown",
   "metadata": {},
   "source": [
    "### Foothill Building data\n",
    "We tried to load the data from all 3 avaliable foothill buildings into the notebook, however this caused the notebook to crash. Therefore, we decided to have to limit the data to just one building in foothill. We feel that the same method can be extendable to other housing buildings using the techniques explored in this notebook. The commented out data files were ones we wanted to included but were not able to because of compute and storage resources limits. "
   ]
  },
  {
   "cell_type": "code",
   "execution_count": 2,
   "metadata": {},
   "outputs": [],
   "source": [
    "# foothill_1 = pd.read_excel('housing_data/Copy of Foothill Building 1 Electric_3 Years.xlsx')\n",
    "# foothill_7 = pd.read_excel('housing_data/Copy of Foothill Building 7 Electric.xlsx')\n",
    "foothill_4 = pd.read_csv('housing_data/Copy of Foothill Building 4 Electric.csv')"
   ]
  },
  {
   "cell_type": "code",
   "execution_count": 3,
   "metadata": {
    "scrolled": true
   },
   "outputs": [
    {
     "data": {
      "text/html": [
       "<div>\n",
       "<style scoped>\n",
       "    .dataframe tbody tr th:only-of-type {\n",
       "        vertical-align: middle;\n",
       "    }\n",
       "\n",
       "    .dataframe tbody tr th {\n",
       "        vertical-align: top;\n",
       "    }\n",
       "\n",
       "    .dataframe thead th {\n",
       "        text-align: right;\n",
       "    }\n",
       "</style>\n",
       "<table border=\"1\" class=\"dataframe\">\n",
       "  <thead>\n",
       "    <tr style=\"text-align: right;\">\n",
       "      <th></th>\n",
       "      <th>time (US/Pacific)</th>\n",
       "      <th>error</th>\n",
       "      <th>lowrange</th>\n",
       "      <th>highrange</th>\n",
       "      <th>Vln a (Volts)</th>\n",
       "      <th>Vln b (Volts)</th>\n",
       "      <th>Vln c (Volts)</th>\n",
       "      <th>Vln ave (Volts)</th>\n",
       "      <th>Vll ab (Volts)</th>\n",
       "      <th>Vll bc (Volts)</th>\n",
       "      <th>...</th>\n",
       "      <th>I c demand (Amps)</th>\n",
       "      <th>I a peak demand (Amps)</th>\n",
       "      <th>I b peak demand (Amps)</th>\n",
       "      <th>I c peak demand (Amps)</th>\n",
       "      <th>kWh a del (kWh)</th>\n",
       "      <th>kWh b del (kWh)</th>\n",
       "      <th>kWh c del (kWh)</th>\n",
       "      <th>kWh a rec (kWh)</th>\n",
       "      <th>kWh b rec (kWh)</th>\n",
       "      <th>kWh c rec (kWh)</th>\n",
       "    </tr>\n",
       "  </thead>\n",
       "  <tbody>\n",
       "    <tr>\n",
       "      <th>0</th>\n",
       "      <td>9/9/17 9:00</td>\n",
       "      <td>0</td>\n",
       "      <td>0.0</td>\n",
       "      <td>0.0</td>\n",
       "      <td>126.1</td>\n",
       "      <td>126.8</td>\n",
       "      <td>126.4</td>\n",
       "      <td>126.4</td>\n",
       "      <td>218.9</td>\n",
       "      <td>219.6</td>\n",
       "      <td>...</td>\n",
       "      <td>427.0</td>\n",
       "      <td>603.8</td>\n",
       "      <td>618.0</td>\n",
       "      <td>604.4</td>\n",
       "      <td>1501899.0</td>\n",
       "      <td>1513306.0</td>\n",
       "      <td>1408322.0</td>\n",
       "      <td>0.0</td>\n",
       "      <td>0.0</td>\n",
       "      <td>0.0</td>\n",
       "    </tr>\n",
       "    <tr>\n",
       "      <th>1</th>\n",
       "      <td>9/9/17 9:15</td>\n",
       "      <td>0</td>\n",
       "      <td>0.0</td>\n",
       "      <td>0.0</td>\n",
       "      <td>125.8</td>\n",
       "      <td>126.7</td>\n",
       "      <td>126.2</td>\n",
       "      <td>126.2</td>\n",
       "      <td>218.6</td>\n",
       "      <td>219.4</td>\n",
       "      <td>...</td>\n",
       "      <td>329.9</td>\n",
       "      <td>603.8</td>\n",
       "      <td>618.0</td>\n",
       "      <td>604.4</td>\n",
       "      <td>1501911.0</td>\n",
       "      <td>1513317.0</td>\n",
       "      <td>1408334.0</td>\n",
       "      <td>0.0</td>\n",
       "      <td>0.0</td>\n",
       "      <td>0.0</td>\n",
       "    </tr>\n",
       "    <tr>\n",
       "      <th>2</th>\n",
       "      <td>9/9/17 9:30</td>\n",
       "      <td>0</td>\n",
       "      <td>0.0</td>\n",
       "      <td>0.0</td>\n",
       "      <td>126.0</td>\n",
       "      <td>126.8</td>\n",
       "      <td>126.2</td>\n",
       "      <td>126.3</td>\n",
       "      <td>218.8</td>\n",
       "      <td>219.4</td>\n",
       "      <td>...</td>\n",
       "      <td>435.6</td>\n",
       "      <td>603.8</td>\n",
       "      <td>618.0</td>\n",
       "      <td>604.4</td>\n",
       "      <td>1501922.0</td>\n",
       "      <td>1513327.0</td>\n",
       "      <td>1408345.0</td>\n",
       "      <td>0.0</td>\n",
       "      <td>0.0</td>\n",
       "      <td>0.0</td>\n",
       "    </tr>\n",
       "    <tr>\n",
       "      <th>3</th>\n",
       "      <td>9/9/17 9:45</td>\n",
       "      <td>0</td>\n",
       "      <td>0.0</td>\n",
       "      <td>0.0</td>\n",
       "      <td>125.9</td>\n",
       "      <td>126.7</td>\n",
       "      <td>126.3</td>\n",
       "      <td>126.3</td>\n",
       "      <td>218.5</td>\n",
       "      <td>219.5</td>\n",
       "      <td>...</td>\n",
       "      <td>353.9</td>\n",
       "      <td>603.8</td>\n",
       "      <td>618.0</td>\n",
       "      <td>604.4</td>\n",
       "      <td>1501932.0</td>\n",
       "      <td>1513336.0</td>\n",
       "      <td>1408355.0</td>\n",
       "      <td>0.0</td>\n",
       "      <td>0.0</td>\n",
       "      <td>0.0</td>\n",
       "    </tr>\n",
       "    <tr>\n",
       "      <th>4</th>\n",
       "      <td>9/9/17 10:00</td>\n",
       "      <td>0</td>\n",
       "      <td>0.0</td>\n",
       "      <td>0.0</td>\n",
       "      <td>125.8</td>\n",
       "      <td>126.5</td>\n",
       "      <td>126.0</td>\n",
       "      <td>126.1</td>\n",
       "      <td>218.5</td>\n",
       "      <td>219.1</td>\n",
       "      <td>...</td>\n",
       "      <td>335.8</td>\n",
       "      <td>603.8</td>\n",
       "      <td>618.0</td>\n",
       "      <td>604.4</td>\n",
       "      <td>1501942.0</td>\n",
       "      <td>1513345.0</td>\n",
       "      <td>1408365.0</td>\n",
       "      <td>0.0</td>\n",
       "      <td>0.0</td>\n",
       "      <td>0.0</td>\n",
       "    </tr>\n",
       "  </tbody>\n",
       "</table>\n",
       "<p>5 rows × 65 columns</p>\n",
       "</div>"
      ],
      "text/plain": [
       "  time (US/Pacific)  error  lowrange  highrange  Vln a (Volts)  Vln b (Volts)  \\\n",
       "0       9/9/17 9:00      0       0.0        0.0          126.1          126.8   \n",
       "1       9/9/17 9:15      0       0.0        0.0          125.8          126.7   \n",
       "2       9/9/17 9:30      0       0.0        0.0          126.0          126.8   \n",
       "3       9/9/17 9:45      0       0.0        0.0          125.9          126.7   \n",
       "4      9/9/17 10:00      0       0.0        0.0          125.8          126.5   \n",
       "\n",
       "   Vln c (Volts)  Vln ave (Volts)  Vll ab (Volts)  Vll bc (Volts)  ...  \\\n",
       "0          126.4            126.4           218.9           219.6  ...   \n",
       "1          126.2            126.2           218.6           219.4  ...   \n",
       "2          126.2            126.3           218.8           219.4  ...   \n",
       "3          126.3            126.3           218.5           219.5  ...   \n",
       "4          126.0            126.1           218.5           219.1  ...   \n",
       "\n",
       "   I c demand (Amps)  I a peak demand (Amps)  I b peak demand (Amps)  \\\n",
       "0              427.0                   603.8                   618.0   \n",
       "1              329.9                   603.8                   618.0   \n",
       "2              435.6                   603.8                   618.0   \n",
       "3              353.9                   603.8                   618.0   \n",
       "4              335.8                   603.8                   618.0   \n",
       "\n",
       "   I c peak demand (Amps)  kWh a del (kWh)  kWh b del (kWh)  kWh c del (kWh)  \\\n",
       "0                   604.4        1501899.0        1513306.0        1408322.0   \n",
       "1                   604.4        1501911.0        1513317.0        1408334.0   \n",
       "2                   604.4        1501922.0        1513327.0        1408345.0   \n",
       "3                   604.4        1501932.0        1513336.0        1408355.0   \n",
       "4                   604.4        1501942.0        1513345.0        1408365.0   \n",
       "\n",
       "   kWh a rec (kWh)  kWh b rec (kWh)  kWh c rec (kWh)  \n",
       "0              0.0              0.0              0.0  \n",
       "1              0.0              0.0              0.0  \n",
       "2              0.0              0.0              0.0  \n",
       "3              0.0              0.0              0.0  \n",
       "4              0.0              0.0              0.0  \n",
       "\n",
       "[5 rows x 65 columns]"
      ]
     },
     "execution_count": 3,
     "metadata": {},
     "output_type": "execute_result"
    }
   ],
   "source": [
    "foothill_4.head(5)"
   ]
  },
  {
   "cell_type": "code",
   "execution_count": 37,
   "metadata": {},
   "outputs": [
    {
     "data": {
      "text/html": [
       "<div>\n",
       "<style scoped>\n",
       "    .dataframe tbody tr th:only-of-type {\n",
       "        vertical-align: middle;\n",
       "    }\n",
       "\n",
       "    .dataframe tbody tr th {\n",
       "        vertical-align: top;\n",
       "    }\n",
       "\n",
       "    .dataframe thead th {\n",
       "        text-align: right;\n",
       "    }\n",
       "</style>\n",
       "<table border=\"1\" class=\"dataframe\">\n",
       "  <thead>\n",
       "    <tr style=\"text-align: right;\">\n",
       "      <th></th>\n",
       "      <th>error</th>\n",
       "      <th>lowrange</th>\n",
       "      <th>highrange</th>\n",
       "      <th>Vln a (Volts)</th>\n",
       "      <th>Vln b (Volts)</th>\n",
       "      <th>Vln c (Volts)</th>\n",
       "      <th>Vln ave (Volts)</th>\n",
       "      <th>Vll ab (Volts)</th>\n",
       "      <th>Vll bc (Volts)</th>\n",
       "      <th>Vll ca (Volts)</th>\n",
       "      <th>...</th>\n",
       "      <th>I c demand (Amps)</th>\n",
       "      <th>I a peak demand (Amps)</th>\n",
       "      <th>I b peak demand (Amps)</th>\n",
       "      <th>I c peak demand (Amps)</th>\n",
       "      <th>kWh a del (kWh)</th>\n",
       "      <th>kWh b del (kWh)</th>\n",
       "      <th>kWh c del (kWh)</th>\n",
       "      <th>kWh a rec (kWh)</th>\n",
       "      <th>kWh b rec (kWh)</th>\n",
       "      <th>kWh c rec (kWh)</th>\n",
       "    </tr>\n",
       "  </thead>\n",
       "  <tbody>\n",
       "    <tr>\n",
       "      <th>count</th>\n",
       "      <td>175695.000000</td>\n",
       "      <td>175262.0</td>\n",
       "      <td>175262.0</td>\n",
       "      <td>175262.000000</td>\n",
       "      <td>175262.000000</td>\n",
       "      <td>175262.000000</td>\n",
       "      <td>175262.000000</td>\n",
       "      <td>175262.000000</td>\n",
       "      <td>175262.000000</td>\n",
       "      <td>175262.000000</td>\n",
       "      <td>...</td>\n",
       "      <td>175262.000000</td>\n",
       "      <td>1.752620e+05</td>\n",
       "      <td>175262.0</td>\n",
       "      <td>175262.0</td>\n",
       "      <td>1.752620e+05</td>\n",
       "      <td>1.752620e+05</td>\n",
       "      <td>1.752620e+05</td>\n",
       "      <td>175262.0</td>\n",
       "      <td>175262.0</td>\n",
       "      <td>175262.0</td>\n",
       "    </tr>\n",
       "    <tr>\n",
       "      <th>mean</th>\n",
       "      <td>0.394354</td>\n",
       "      <td>0.0</td>\n",
       "      <td>0.0</td>\n",
       "      <td>126.019837</td>\n",
       "      <td>126.486152</td>\n",
       "      <td>126.291149</td>\n",
       "      <td>126.265772</td>\n",
       "      <td>218.618848</td>\n",
       "      <td>219.135354</td>\n",
       "      <td>218.349825</td>\n",
       "      <td>...</td>\n",
       "      <td>251.002768</td>\n",
       "      <td>6.038000e+02</td>\n",
       "      <td>618.0</td>\n",
       "      <td>604.4</td>\n",
       "      <td>2.167707e+06</td>\n",
       "      <td>2.208945e+06</td>\n",
       "      <td>2.070024e+06</td>\n",
       "      <td>0.0</td>\n",
       "      <td>0.0</td>\n",
       "      <td>0.0</td>\n",
       "    </tr>\n",
       "    <tr>\n",
       "      <th>std</th>\n",
       "      <td>7.933912</td>\n",
       "      <td>0.0</td>\n",
       "      <td>0.0</td>\n",
       "      <td>0.945648</td>\n",
       "      <td>1.004479</td>\n",
       "      <td>0.971098</td>\n",
       "      <td>0.967083</td>\n",
       "      <td>1.683569</td>\n",
       "      <td>1.723829</td>\n",
       "      <td>1.642488</td>\n",
       "      <td>...</td>\n",
       "      <td>78.498324</td>\n",
       "      <td>1.136872e-13</td>\n",
       "      <td>0.0</td>\n",
       "      <td>0.0</td>\n",
       "      <td>3.591620e+05</td>\n",
       "      <td>3.745362e+05</td>\n",
       "      <td>3.517314e+05</td>\n",
       "      <td>0.0</td>\n",
       "      <td>0.0</td>\n",
       "      <td>0.0</td>\n",
       "    </tr>\n",
       "    <tr>\n",
       "      <th>min</th>\n",
       "      <td>0.000000</td>\n",
       "      <td>0.0</td>\n",
       "      <td>0.0</td>\n",
       "      <td>121.800000</td>\n",
       "      <td>121.900000</td>\n",
       "      <td>121.900000</td>\n",
       "      <td>121.900000</td>\n",
       "      <td>211.100000</td>\n",
       "      <td>211.200000</td>\n",
       "      <td>210.900000</td>\n",
       "      <td>...</td>\n",
       "      <td>0.000000</td>\n",
       "      <td>6.038000e+02</td>\n",
       "      <td>618.0</td>\n",
       "      <td>604.4</td>\n",
       "      <td>1.501899e+06</td>\n",
       "      <td>1.513306e+06</td>\n",
       "      <td>1.408322e+06</td>\n",
       "      <td>0.0</td>\n",
       "      <td>0.0</td>\n",
       "      <td>0.0</td>\n",
       "    </tr>\n",
       "    <tr>\n",
       "      <th>25%</th>\n",
       "      <td>0.000000</td>\n",
       "      <td>0.0</td>\n",
       "      <td>0.0</td>\n",
       "      <td>125.400000</td>\n",
       "      <td>125.800000</td>\n",
       "      <td>125.700000</td>\n",
       "      <td>125.700000</td>\n",
       "      <td>217.500000</td>\n",
       "      <td>218.000000</td>\n",
       "      <td>217.300000</td>\n",
       "      <td>...</td>\n",
       "      <td>194.500000</td>\n",
       "      <td>6.038000e+02</td>\n",
       "      <td>618.0</td>\n",
       "      <td>604.4</td>\n",
       "      <td>1.868883e+06</td>\n",
       "      <td>1.897494e+06</td>\n",
       "      <td>1.779672e+06</td>\n",
       "      <td>0.0</td>\n",
       "      <td>0.0</td>\n",
       "      <td>0.0</td>\n",
       "    </tr>\n",
       "    <tr>\n",
       "      <th>50%</th>\n",
       "      <td>0.000000</td>\n",
       "      <td>0.0</td>\n",
       "      <td>0.0</td>\n",
       "      <td>125.900000</td>\n",
       "      <td>126.400000</td>\n",
       "      <td>126.200000</td>\n",
       "      <td>126.200000</td>\n",
       "      <td>218.400000</td>\n",
       "      <td>219.000000</td>\n",
       "      <td>218.200000</td>\n",
       "      <td>...</td>\n",
       "      <td>219.000000</td>\n",
       "      <td>6.038000e+02</td>\n",
       "      <td>618.0</td>\n",
       "      <td>604.4</td>\n",
       "      <td>2.197908e+06</td>\n",
       "      <td>2.241666e+06</td>\n",
       "      <td>2.104335e+06</td>\n",
       "      <td>0.0</td>\n",
       "      <td>0.0</td>\n",
       "      <td>0.0</td>\n",
       "    </tr>\n",
       "    <tr>\n",
       "      <th>75%</th>\n",
       "      <td>0.000000</td>\n",
       "      <td>0.0</td>\n",
       "      <td>0.0</td>\n",
       "      <td>126.700000</td>\n",
       "      <td>127.200000</td>\n",
       "      <td>127.000000</td>\n",
       "      <td>126.900000</td>\n",
       "      <td>219.800000</td>\n",
       "      <td>220.400000</td>\n",
       "      <td>219.500000</td>\n",
       "      <td>...</td>\n",
       "      <td>301.600000</td>\n",
       "      <td>6.038000e+02</td>\n",
       "      <td>618.0</td>\n",
       "      <td>604.4</td>\n",
       "      <td>2.467956e+06</td>\n",
       "      <td>2.522806e+06</td>\n",
       "      <td>2.363913e+06</td>\n",
       "      <td>0.0</td>\n",
       "      <td>0.0</td>\n",
       "      <td>0.0</td>\n",
       "    </tr>\n",
       "    <tr>\n",
       "      <th>max</th>\n",
       "      <td>161.000000</td>\n",
       "      <td>0.0</td>\n",
       "      <td>0.0</td>\n",
       "      <td>128.600000</td>\n",
       "      <td>129.100000</td>\n",
       "      <td>128.900000</td>\n",
       "      <td>128.800000</td>\n",
       "      <td>223.200000</td>\n",
       "      <td>223.500000</td>\n",
       "      <td>222.800000</td>\n",
       "      <td>...</td>\n",
       "      <td>564.700000</td>\n",
       "      <td>6.038000e+02</td>\n",
       "      <td>618.0</td>\n",
       "      <td>604.4</td>\n",
       "      <td>2.783776e+06</td>\n",
       "      <td>2.850178e+06</td>\n",
       "      <td>2.668540e+06</td>\n",
       "      <td>0.0</td>\n",
       "      <td>0.0</td>\n",
       "      <td>0.0</td>\n",
       "    </tr>\n",
       "  </tbody>\n",
       "</table>\n",
       "<p>8 rows × 64 columns</p>\n",
       "</div>"
      ],
      "text/plain": [
       "               error  lowrange  highrange  Vln a (Volts)  Vln b (Volts)  \\\n",
       "count  175695.000000  175262.0   175262.0  175262.000000  175262.000000   \n",
       "mean        0.394354       0.0        0.0     126.019837     126.486152   \n",
       "std         7.933912       0.0        0.0       0.945648       1.004479   \n",
       "min         0.000000       0.0        0.0     121.800000     121.900000   \n",
       "25%         0.000000       0.0        0.0     125.400000     125.800000   \n",
       "50%         0.000000       0.0        0.0     125.900000     126.400000   \n",
       "75%         0.000000       0.0        0.0     126.700000     127.200000   \n",
       "max       161.000000       0.0        0.0     128.600000     129.100000   \n",
       "\n",
       "       Vln c (Volts)  Vln ave (Volts)  Vll ab (Volts)  Vll bc (Volts)  \\\n",
       "count  175262.000000    175262.000000   175262.000000   175262.000000   \n",
       "mean      126.291149       126.265772      218.618848      219.135354   \n",
       "std         0.971098         0.967083        1.683569        1.723829   \n",
       "min       121.900000       121.900000      211.100000      211.200000   \n",
       "25%       125.700000       125.700000      217.500000      218.000000   \n",
       "50%       126.200000       126.200000      218.400000      219.000000   \n",
       "75%       127.000000       126.900000      219.800000      220.400000   \n",
       "max       128.900000       128.800000      223.200000      223.500000   \n",
       "\n",
       "       Vll ca (Volts)  ...  I c demand (Amps)  I a peak demand (Amps)  \\\n",
       "count   175262.000000  ...      175262.000000            1.752620e+05   \n",
       "mean       218.349825  ...         251.002768            6.038000e+02   \n",
       "std          1.642488  ...          78.498324            1.136872e-13   \n",
       "min        210.900000  ...           0.000000            6.038000e+02   \n",
       "25%        217.300000  ...         194.500000            6.038000e+02   \n",
       "50%        218.200000  ...         219.000000            6.038000e+02   \n",
       "75%        219.500000  ...         301.600000            6.038000e+02   \n",
       "max        222.800000  ...         564.700000            6.038000e+02   \n",
       "\n",
       "       I b peak demand (Amps)  I c peak demand (Amps)  kWh a del (kWh)  \\\n",
       "count                175262.0                175262.0     1.752620e+05   \n",
       "mean                    618.0                   604.4     2.167707e+06   \n",
       "std                       0.0                     0.0     3.591620e+05   \n",
       "min                     618.0                   604.4     1.501899e+06   \n",
       "25%                     618.0                   604.4     1.868883e+06   \n",
       "50%                     618.0                   604.4     2.197908e+06   \n",
       "75%                     618.0                   604.4     2.467956e+06   \n",
       "max                     618.0                   604.4     2.783776e+06   \n",
       "\n",
       "       kWh b del (kWh)  kWh c del (kWh)  kWh a rec (kWh)  kWh b rec (kWh)  \\\n",
       "count     1.752620e+05     1.752620e+05         175262.0         175262.0   \n",
       "mean      2.208945e+06     2.070024e+06              0.0              0.0   \n",
       "std       3.745362e+05     3.517314e+05              0.0              0.0   \n",
       "min       1.513306e+06     1.408322e+06              0.0              0.0   \n",
       "25%       1.897494e+06     1.779672e+06              0.0              0.0   \n",
       "50%       2.241666e+06     2.104335e+06              0.0              0.0   \n",
       "75%       2.522806e+06     2.363913e+06              0.0              0.0   \n",
       "max       2.850178e+06     2.668540e+06              0.0              0.0   \n",
       "\n",
       "       kWh c rec (kWh)  \n",
       "count         175262.0  \n",
       "mean               0.0  \n",
       "std                0.0  \n",
       "min                0.0  \n",
       "25%                0.0  \n",
       "50%                0.0  \n",
       "75%                0.0  \n",
       "max                0.0  \n",
       "\n",
       "[8 rows x 64 columns]"
      ]
     },
     "execution_count": 37,
     "metadata": {},
     "output_type": "execute_result"
    }
   ],
   "source": [
    "foothill_4.describe()"
   ]
  },
  {
   "cell_type": "code",
   "execution_count": 49,
   "metadata": {},
   "outputs": [
    {
     "data": {
      "text/plain": [
       "error              False\n",
       "lowrange            True\n",
       "highrange           True\n",
       "Vln a (Volts)      False\n",
       "Vln b (Volts)      False\n",
       "                   ...  \n",
       "kWh b del (kWh)    False\n",
       "kWh c del (kWh)    False\n",
       "kWh a rec (kWh)     True\n",
       "kWh b rec (kWh)     True\n",
       "kWh c rec (kWh)     True\n",
       "Name: std, Length: 64, dtype: bool"
      ]
     },
     "execution_count": 49,
     "metadata": {},
     "output_type": "execute_result"
    }
   ],
   "source": [
    "foothill_4.describe().T['std'] == 0"
   ]
  },
  {
   "cell_type": "code",
   "execution_count": 52,
   "metadata": {
    "scrolled": true
   },
   "outputs": [
    {
     "name": "stderr",
     "output_type": "stream",
     "text": [
      "/opt/conda/lib/python3.9/site-packages/pandas/core/indexes/base.py:4616: FutureWarning: Using a non-tuple sequence for multidimensional indexing is deprecated; use `arr[tuple(seq)]` instead of `arr[seq]`. In the future this will be interpreted as an array index, `arr[np.array(seq)]`, which will result either in an error or a different result.\n",
      "  result = getitem(key)\n"
     ]
    },
    {
     "data": {
      "text/plain": [
       "Index(['lowrange', 'highrange', 'kW peak demand (kW)',\n",
       "       'kVAR peak demand (kVAR)', 'kVA peak demand (kVA)', 'kWh rec (kWh)',\n",
       "       'kVARh rec (kVARh)', 'I b peak demand (Amps)', 'I c peak demand (Amps)',\n",
       "       'kWh a rec (kWh)', 'kWh b rec (kWh)', 'kWh c rec (kWh)'],\n",
       "      dtype='object')"
      ]
     },
     "execution_count": 52,
     "metadata": {},
     "output_type": "execute_result"
    }
   ],
   "source": [
    "foothill_4.describe().columns[[foothill_4.describe().T['std'] == 0]]"
   ]
  },
  {
   "cell_type": "code",
   "execution_count": 53,
   "metadata": {
    "scrolled": true
   },
   "outputs": [
    {
     "data": {
      "text/plain": [
       "Index(['time (US/Pacific)', 'error', 'lowrange', 'highrange', 'Vln a (Volts)',\n",
       "       'Vln b (Volts)', 'Vln c (Volts)', 'Vln ave (Volts)', 'Vll ab (Volts)',\n",
       "       'Vll bc (Volts)', 'Vll ca (Volts)', 'Vll ave (Volts)', 'I a (Amps)',\n",
       "       'I b (Amps)', 'I c (Amps)', 'I ave (Amps)', 'I demand (Amps)',\n",
       "       'I peak demand (Amps)', 'I4 (Amps)', 'Frequency (Hz)', 'PF sign total',\n",
       "       'PF sign a', 'PF sign b', 'PF sign c', 'kW total (kW)',\n",
       "       'kVAR total (kVAR)', 'kVA total (kVA)', 'kW a (kW)', 'kW b (kW)',\n",
       "       'kW c (kW)', 'kVAR a (kVAR)', 'kVAR b (kVAR)', 'kVAR c (kVAR)',\n",
       "       'kVA a (kVA)', 'kVA b (kVA)', 'kVA c (kVA)', 'kW demand (kW)',\n",
       "       'kW peak demand (kW)', 'kVAR demand (kVAR)', 'kVA demand (kVA)',\n",
       "       'kVAR peak demand (kVAR)', 'kVA peak demand (kVA)', 'kWh del (kWh)',\n",
       "       'kWh rec (kWh)', 'kVARh del (kVARh)', 'kVARh rec (kVARh)',\n",
       "       'kVAh del+rec (kVAh)', 'V1 THD (%)', 'V2 THD (%)', 'V3 THD (%)',\n",
       "       'I1 THD (%)', 'I2 THD (%)', 'I3 THD (%)', 'I a demand (Amps)',\n",
       "       'I b demand (Amps)', 'I c demand (Amps)', 'I a peak demand (Amps)',\n",
       "       'I b peak demand (Amps)', 'I c peak demand (Amps)', 'kWh a del (kWh)',\n",
       "       'kWh b del (kWh)', 'kWh c del (kWh)', 'kWh a rec (kWh)',\n",
       "       'kWh b rec (kWh)', 'kWh c rec (kWh)'],\n",
       "      dtype='object')"
      ]
     },
     "execution_count": 53,
     "metadata": {},
     "output_type": "execute_result"
    }
   ],
   "source": [
    "foothill_4.columns"
   ]
  },
  {
   "cell_type": "markdown",
   "metadata": {},
   "source": [
    "Our response variable is `kW demand (kW)` which indicates the demand of power within the 15 minute block. From analyzing the avaliable columns, we can infer that the data is measured either grouped into a, b or c or as a total. Our condition for including a column was as follows: \n",
    "1. We only took columns that were not split into a, b and c. \n",
    "2. We ignored columns that had `Volts` or `kVAh` or `Amps` or `kVA` as their units. \n",
    "3. We ignored columns that had a standard deviation of 0 since this just means the value is a constant."
   ]
  },
  {
   "cell_type": "code",
   "execution_count": 58,
   "metadata": {},
   "outputs": [
    {
     "data": {
      "text/plain": [
       "array({'V1 THD (%)', 'kVA total (kVA)', 'kWh b del (kWh)', 'I b (Amps)', 'I peak demand (Amps)', 'kVA b (kVA)', 'Vln a (Volts)', 'kVAR a (kVAR)', 'PF sign total', 'error', 'I ave (Amps)', 'I b demand (Amps)', 'kWh a del (kWh)', 'kW a (kW)', 'I c (Amps)', 'PF sign b', 'I a peak demand (Amps)', 'kW c (kW)', 'kW demand (kW)', 'Vll ca (Volts)', 'kVA demand (kVA)', 'I4 (Amps)', 'kVAR b (kVAR)', 'kVAR c (kVAR)', 'Vll ab (Volts)', 'kWh del (kWh)', 'Vll ave (Volts)', 'I demand (Amps)', 'I3 THD (%)', 'PF sign c', 'kW total (kW)', 'I1 THD (%)', 'V2 THD (%)', 'Vll bc (Volts)', 'Vln c (Volts)', 'V3 THD (%)', 'I2 THD (%)', 'I c demand (Amps)', 'kWh c del (kWh)', 'time (US/Pacific)', 'kVARh del (kVARh)', 'Frequency (Hz)', 'I a (Amps)', 'Vln b (Volts)', 'kVA c (kVA)', 'Vln ave (Volts)', 'kVAR total (kVAR)', 'I a demand (Amps)', 'kVAh del+rec (kVAh)', 'kVAR demand (kVAR)', 'kW b (kW)', 'PF sign a', 'kVA a (kVA)'},\n",
       "      dtype=object)"
      ]
     },
     "execution_count": 58,
     "metadata": {},
     "output_type": "execute_result"
    }
   ],
   "source": [
    "# non 0 std columns\n",
    "np.array((set(foothill_4.columns) - set(foothill_4.describe().columns[[foothill_4.describe().T['std'] == 0]])))"
   ]
  },
  {
   "cell_type": "markdown",
   "metadata": {},
   "source": [
    "From this list we chose the following feature variables: \n",
    "'V1 THD (%)', 'PF sign total', 'kWh del (kWh)', 'I3 THD (%)', 'kW total (kW)', 'I1 THD (%)', 'V2 THD (%)', 'V3 THD (%)', 'I2 THD (%)', 'time (US/Pacific)', 'Frequency (Hz)'"
   ]
  },
  {
   "cell_type": "code",
   "execution_count": 59,
   "metadata": {},
   "outputs": [],
   "source": [
    "response = ['kW demand (kW)']\n",
    "foothil_features = ['V1 THD (%)', 'PF sign total', 'kWh del (kWh)', 'I3 THD (%)', 'kW total (kW)', 'I1 THD (%)', 'V2 THD (%)', 'V3 THD (%)', 'I2 THD (%)', 'time (US/Pacific)', 'Frequency (Hz)']\n"
   ]
  },
  {
   "cell_type": "markdown",
   "metadata": {},
   "source": [
    "###  Weather Data \n",
    "To determine the timeframe for which we needed weather data, we had to look for the timeframe represented in the foothill data which is done in the cell below. \n",
    "\n",
    "We got the data from the University of [Utah's Meso West lab](https://mesowest.utah.edu/cgi-bin/droman/meso_base_dyn.cgi?stn=LBNL1).\n",
    "The data could only be extracted for a single year at a time, therefore we had to merge 5 different datasets to account for the 5 years of data found in the foothill dataset."
   ]
  },
  {
   "cell_type": "code",
   "execution_count": 9,
   "metadata": {},
   "outputs": [
    {
     "data": {
      "text/plain": [
       "('1/1/18 0:00', '9/9/22 9:00')"
      ]
     },
     "execution_count": 9,
     "metadata": {},
     "output_type": "execute_result"
    }
   ],
   "source": [
    "# To get weather data in the same data range\n",
    "min(foothill_4.iloc[:, 0]), max(foothill_4.iloc[:, 0])"
   ]
  },
  {
   "cell_type": "code",
   "execution_count": 68,
   "metadata": {},
   "outputs": [
    {
     "name": "stdout",
     "output_type": "stream",
     "text": [
      "weather_data/LBNL1.csv\n",
      "weather_data/LBNL1 (4).csv\n"
     ]
    },
    {
     "name": "stderr",
     "output_type": "stream",
     "text": [
      "/opt/conda/lib/python3.9/site-packages/IPython/core/interactiveshell.py:3433: DtypeWarning: Columns (2,3,4,5,6,7,8,9,10,11,12,13,16,17,18) have mixed types.Specify dtype option on import or set low_memory=False.\n",
      "  exec(code_obj, self.user_global_ns, self.user_ns)\n",
      "/opt/conda/lib/python3.9/site-packages/IPython/core/interactiveshell.py:3433: DtypeWarning: Columns (2,3,4,5,6,7,8,9,10,11,12,13,15,16,17,18) have mixed types.Specify dtype option on import or set low_memory=False.\n",
      "  exec(code_obj, self.user_global_ns, self.user_ns)\n"
     ]
    },
    {
     "name": "stdout",
     "output_type": "stream",
     "text": [
      "weather_data/LBNL1 (3).csv\n",
      "weather_data/LBNL1 (2).csv\n",
      "weather_data/LBNL1 (1).csv\n"
     ]
    }
   ],
   "source": [
    "import os\n",
    "directory = 'weather_data'\n",
    "weather_df = pd.DataFrame()\n",
    "\n",
    "for filename in os.listdir(directory):\n",
    "    f = os.path.join(directory, filename)\n",
    "    # checking if it is a file\n",
    "    if os.path.isfile(f):\n",
    "        print(f)\n",
    "        data = pd.read_csv(f, skiprows=6)\n",
    "        weather_df = pd.concat([weather_df, data])"
   ]
  },
  {
   "cell_type": "code",
   "execution_count": 63,
   "metadata": {},
   "outputs": [
    {
     "data": {
      "text/html": [
       "<div>\n",
       "<style scoped>\n",
       "    .dataframe tbody tr th:only-of-type {\n",
       "        vertical-align: middle;\n",
       "    }\n",
       "\n",
       "    .dataframe tbody tr th {\n",
       "        vertical-align: top;\n",
       "    }\n",
       "\n",
       "    .dataframe thead th {\n",
       "        text-align: right;\n",
       "    }\n",
       "</style>\n",
       "<table border=\"1\" class=\"dataframe\">\n",
       "  <thead>\n",
       "    <tr style=\"text-align: right;\">\n",
       "      <th></th>\n",
       "      <th>Station_ID</th>\n",
       "      <th>Date_Time</th>\n",
       "      <th>pressure_set_1</th>\n",
       "      <th>air_temp_set_1</th>\n",
       "      <th>air_temp_set_2</th>\n",
       "      <th>relative_humidity_set_1</th>\n",
       "      <th>wind_speed_set_1</th>\n",
       "      <th>wind_direction_set_1</th>\n",
       "      <th>wind_gust_set_1</th>\n",
       "      <th>precip_accum_fifteen_minute_set_1</th>\n",
       "      <th>solar_radiation_set_1</th>\n",
       "      <th>volt_set_1</th>\n",
       "      <th>dew_point_temperature_set_1d</th>\n",
       "      <th>wind_chill_set_1d</th>\n",
       "      <th>wind_cardinal_direction_set_1d</th>\n",
       "      <th>sea_level_pressure_set_1d</th>\n",
       "      <th>heat_index_set_1d</th>\n",
       "      <th>wet_bulb_temperature_set_1d</th>\n",
       "      <th>altimeter_set_1d</th>\n",
       "    </tr>\n",
       "  </thead>\n",
       "  <tbody>\n",
       "    <tr>\n",
       "      <th>0</th>\n",
       "      <td>NaN</td>\n",
       "      <td>NaN</td>\n",
       "      <td>INHG</td>\n",
       "      <td>Fahrenheit</td>\n",
       "      <td>Fahrenheit</td>\n",
       "      <td>%</td>\n",
       "      <td>Miles/hour</td>\n",
       "      <td>Degrees</td>\n",
       "      <td>Miles/hour</td>\n",
       "      <td>Inches</td>\n",
       "      <td>W/m**2</td>\n",
       "      <td>volts</td>\n",
       "      <td>Fahrenheit</td>\n",
       "      <td>Fahrenheit</td>\n",
       "      <td>code</td>\n",
       "      <td>INHG</td>\n",
       "      <td>Fahrenheit</td>\n",
       "      <td>Fahrenheit</td>\n",
       "      <td>INHG</td>\n",
       "    </tr>\n",
       "    <tr>\n",
       "      <th>1</th>\n",
       "      <td>LBNL1</td>\n",
       "      <td>09/09/2021 22:00 PDT</td>\n",
       "      <td>28.91</td>\n",
       "      <td>57.92</td>\n",
       "      <td>57.51</td>\n",
       "      <td>86.9</td>\n",
       "      <td>6.17</td>\n",
       "      <td>145.1</td>\n",
       "      <td>10.0</td>\n",
       "      <td>0.0</td>\n",
       "      <td>0.0</td>\n",
       "      <td>13.14</td>\n",
       "      <td>54.01</td>\n",
       "      <td>NaN</td>\n",
       "      <td>SE</td>\n",
       "      <td>29.85</td>\n",
       "      <td>NaN</td>\n",
       "      <td>NaN</td>\n",
       "      <td>NaN</td>\n",
       "    </tr>\n",
       "    <tr>\n",
       "      <th>2</th>\n",
       "      <td>LBNL1</td>\n",
       "      <td>09/09/2021 22:15 PDT</td>\n",
       "      <td>28.91</td>\n",
       "      <td>57.68</td>\n",
       "      <td>57.45</td>\n",
       "      <td>87.7</td>\n",
       "      <td>4.19</td>\n",
       "      <td>170.2</td>\n",
       "      <td>7.17</td>\n",
       "      <td>0.0</td>\n",
       "      <td>0.0</td>\n",
       "      <td>13.15</td>\n",
       "      <td>54.02</td>\n",
       "      <td>NaN</td>\n",
       "      <td>S</td>\n",
       "      <td>29.86</td>\n",
       "      <td>NaN</td>\n",
       "      <td>NaN</td>\n",
       "      <td>NaN</td>\n",
       "    </tr>\n",
       "    <tr>\n",
       "      <th>3</th>\n",
       "      <td>LBNL1</td>\n",
       "      <td>09/09/2021 22:30 PDT</td>\n",
       "      <td>28.91</td>\n",
       "      <td>57.37</td>\n",
       "      <td>57.02</td>\n",
       "      <td>88.7</td>\n",
       "      <td>3.75</td>\n",
       "      <td>168.2</td>\n",
       "      <td>8.02</td>\n",
       "      <td>0.0</td>\n",
       "      <td>0.0</td>\n",
       "      <td>13.15</td>\n",
       "      <td>54.03</td>\n",
       "      <td>NaN</td>\n",
       "      <td>SSE</td>\n",
       "      <td>29.86</td>\n",
       "      <td>NaN</td>\n",
       "      <td>NaN</td>\n",
       "      <td>NaN</td>\n",
       "    </tr>\n",
       "    <tr>\n",
       "      <th>4</th>\n",
       "      <td>LBNL1</td>\n",
       "      <td>09/09/2021 22:45 PDT</td>\n",
       "      <td>28.91</td>\n",
       "      <td>57.35</td>\n",
       "      <td>56.91</td>\n",
       "      <td>88.7</td>\n",
       "      <td>3.67</td>\n",
       "      <td>166.0</td>\n",
       "      <td>5.88</td>\n",
       "      <td>0.0</td>\n",
       "      <td>0.0</td>\n",
       "      <td>13.15</td>\n",
       "      <td>54.01</td>\n",
       "      <td>NaN</td>\n",
       "      <td>SSE</td>\n",
       "      <td>29.86</td>\n",
       "      <td>NaN</td>\n",
       "      <td>NaN</td>\n",
       "      <td>NaN</td>\n",
       "    </tr>\n",
       "  </tbody>\n",
       "</table>\n",
       "</div>"
      ],
      "text/plain": [
       "  Station_ID             Date_Time pressure_set_1 air_temp_set_1  \\\n",
       "0        NaN                   NaN           INHG     Fahrenheit   \n",
       "1      LBNL1  09/09/2021 22:00 PDT          28.91          57.92   \n",
       "2      LBNL1  09/09/2021 22:15 PDT          28.91          57.68   \n",
       "3      LBNL1  09/09/2021 22:30 PDT          28.91          57.37   \n",
       "4      LBNL1  09/09/2021 22:45 PDT          28.91          57.35   \n",
       "\n",
       "  air_temp_set_2 relative_humidity_set_1 wind_speed_set_1  \\\n",
       "0     Fahrenheit                       %       Miles/hour   \n",
       "1          57.51                    86.9             6.17   \n",
       "2          57.45                    87.7             4.19   \n",
       "3          57.02                    88.7             3.75   \n",
       "4          56.91                    88.7             3.67   \n",
       "\n",
       "  wind_direction_set_1 wind_gust_set_1 precip_accum_fifteen_minute_set_1  \\\n",
       "0              Degrees      Miles/hour                            Inches   \n",
       "1                145.1            10.0                               0.0   \n",
       "2                170.2            7.17                               0.0   \n",
       "3                168.2            8.02                               0.0   \n",
       "4                166.0            5.88                               0.0   \n",
       "\n",
       "  solar_radiation_set_1 volt_set_1 dew_point_temperature_set_1d  \\\n",
       "0                W/m**2      volts                   Fahrenheit   \n",
       "1                   0.0      13.14                        54.01   \n",
       "2                   0.0      13.15                        54.02   \n",
       "3                   0.0      13.15                        54.03   \n",
       "4                   0.0      13.15                        54.01   \n",
       "\n",
       "  wind_chill_set_1d wind_cardinal_direction_set_1d sea_level_pressure_set_1d  \\\n",
       "0        Fahrenheit                           code                      INHG   \n",
       "1               NaN                             SE                     29.85   \n",
       "2               NaN                              S                     29.86   \n",
       "3               NaN                            SSE                     29.86   \n",
       "4               NaN                            SSE                     29.86   \n",
       "\n",
       "  heat_index_set_1d wet_bulb_temperature_set_1d altimeter_set_1d  \n",
       "0        Fahrenheit                  Fahrenheit             INHG  \n",
       "1               NaN                         NaN              NaN  \n",
       "2               NaN                         NaN              NaN  \n",
       "3               NaN                         NaN              NaN  \n",
       "4               NaN                         NaN              NaN  "
      ]
     },
     "execution_count": 63,
     "metadata": {},
     "output_type": "execute_result"
    }
   ],
   "source": [
    "weather_df.head(5)"
   ]
  },
  {
   "cell_type": "code",
   "execution_count": 60,
   "metadata": {},
   "outputs": [
    {
     "data": {
      "text/plain": [
       "Index(['Station_ID', 'Date_Time', 'pressure_set_1', 'air_temp_set_1',\n",
       "       'air_temp_set_2', 'relative_humidity_set_1', 'wind_speed_set_1',\n",
       "       'wind_direction_set_1', 'wind_gust_set_1',\n",
       "       'precip_accum_fifteen_minute_set_1', 'solar_radiation_set_1',\n",
       "       'volt_set_1', 'dew_point_temperature_set_1d', 'wind_chill_set_1d',\n",
       "       'wind_cardinal_direction_set_1d', 'sea_level_pressure_set_1d',\n",
       "       'heat_index_set_1d', 'wet_bulb_temperature_set_1d', 'altimeter_set_1d'],\n",
       "      dtype='object')"
      ]
     },
     "execution_count": 60,
     "metadata": {},
     "output_type": "execute_result"
    }
   ],
   "source": [
    "weather_df.columns"
   ]
  },
  {
   "cell_type": "markdown",
   "metadata": {},
   "source": [
    "Feature columns we selected from the weather data were `Date_Time` as the necessary key for joining the 2 dataframes and 'pressure_set_1', 'air_temp_set_1', 'relative_humidity_set_1', 'wind_speed_set_1', 'precip_accum_fifteen_minute_set_1', 'solar_radiation_set_1'"
   ]
  },
  {
   "cell_type": "code",
   "execution_count": 61,
   "metadata": {},
   "outputs": [],
   "source": [
    "weather_features = ['pressure_set_1', 'air_temp_set_1', 'relative_humidity_set_1', 'wind_speed_set_1', 'precip_accum_fifteen_minute_set_1', 'solar_radiation_set_1', 'Date_Time']"
   ]
  },
  {
   "cell_type": "markdown",
   "metadata": {},
   "source": [
    "## Data Cleaning (10 points)\n",
    "In this section you will walk through the data cleaning and merging process.  Explain how you make decisions to clean and merge the data.  Explain how you convince yourself that the data don't contain problems that will limit your ability to produce a meaningful analysis from them.   "
   ]
  },
  {
   "cell_type": "markdown",
   "metadata": {},
   "source": [
    "#### Checking and Cleaning Foothill data\n",
    "For the foothill data, we need to ensure that the response variable is not null and if it is, we drop that row since it is a datapoint that we will not be able to use."
   ]
  },
  {
   "cell_type": "code",
   "execution_count": 76,
   "metadata": {},
   "outputs": [],
   "source": [
    "foothill_clean = foothill_4[foothil_features + response]"
   ]
  },
  {
   "cell_type": "code",
   "execution_count": 78,
   "metadata": {},
   "outputs": [
    {
     "data": {
      "text/plain": [
       "V1 THD (%)           433\n",
       "PF sign total        433\n",
       "kWh del (kWh)        433\n",
       "I3 THD (%)           433\n",
       "kW total (kW)        433\n",
       "I1 THD (%)           433\n",
       "V2 THD (%)           433\n",
       "V3 THD (%)           433\n",
       "I2 THD (%)           433\n",
       "time (US/Pacific)      0\n",
       "Frequency (Hz)       433\n",
       "kW demand (kW)       433\n",
       "dtype: int64"
      ]
     },
     "execution_count": 78,
     "metadata": {},
     "output_type": "execute_result"
    }
   ],
   "source": [
    "# This shows there are 433 response NaN rows that need to be dropped\n",
    "foothill_clean.isna().sum()"
   ]
  },
  {
   "cell_type": "code",
   "execution_count": 79,
   "metadata": {
    "scrolled": true
   },
   "outputs": [
    {
     "name": "stderr",
     "output_type": "stream",
     "text": [
      "/opt/conda/lib/python3.9/site-packages/pandas/util/_decorators.py:311: SettingWithCopyWarning: \n",
      "A value is trying to be set on a copy of a slice from a DataFrame\n",
      "\n",
      "See the caveats in the documentation: https://pandas.pydata.org/pandas-docs/stable/user_guide/indexing.html#returning-a-view-versus-a-copy\n",
      "  return func(*args, **kwargs)\n"
     ]
    }
   ],
   "source": [
    "# Drop NA rows \n",
    "foothill_clean.dropna(subset=['kW demand (kW)'], inplace=True)"
   ]
  },
  {
   "cell_type": "code",
   "execution_count": 81,
   "metadata": {
    "scrolled": true
   },
   "outputs": [
    {
     "data": {
      "text/plain": [
       "V1 THD (%)           0\n",
       "PF sign total        0\n",
       "kWh del (kWh)        0\n",
       "I3 THD (%)           0\n",
       "kW total (kW)        0\n",
       "I1 THD (%)           0\n",
       "V2 THD (%)           0\n",
       "V3 THD (%)           0\n",
       "I2 THD (%)           0\n",
       "time (US/Pacific)    0\n",
       "Frequency (Hz)       0\n",
       "kW demand (kW)       0\n",
       "dtype: int64"
      ]
     },
     "execution_count": 81,
     "metadata": {},
     "output_type": "execute_result"
    }
   ],
   "source": [
    "foothill_clean.isna().sum()"
   ]
  },
  {
   "cell_type": "code",
   "execution_count": 87,
   "metadata": {},
   "outputs": [
    {
     "data": {
      "text/html": [
       "<div>\n",
       "<style scoped>\n",
       "    .dataframe tbody tr th:only-of-type {\n",
       "        vertical-align: middle;\n",
       "    }\n",
       "\n",
       "    .dataframe tbody tr th {\n",
       "        vertical-align: top;\n",
       "    }\n",
       "\n",
       "    .dataframe thead th {\n",
       "        text-align: right;\n",
       "    }\n",
       "</style>\n",
       "<table border=\"1\" class=\"dataframe\">\n",
       "  <thead>\n",
       "    <tr style=\"text-align: right;\">\n",
       "      <th></th>\n",
       "      <th>V1 THD (%)</th>\n",
       "      <th>PF sign total</th>\n",
       "      <th>kWh del (kWh)</th>\n",
       "      <th>I3 THD (%)</th>\n",
       "      <th>kW total (kW)</th>\n",
       "      <th>I1 THD (%)</th>\n",
       "      <th>V2 THD (%)</th>\n",
       "      <th>V3 THD (%)</th>\n",
       "      <th>I2 THD (%)</th>\n",
       "      <th>time (US/Pacific)</th>\n",
       "      <th>Frequency (Hz)</th>\n",
       "      <th>kW demand (kW)</th>\n",
       "    </tr>\n",
       "  </thead>\n",
       "  <tbody>\n",
       "    <tr>\n",
       "      <th>0</th>\n",
       "      <td>1.2</td>\n",
       "      <td>-92.67</td>\n",
       "      <td>4423527.0</td>\n",
       "      <td>6.5</td>\n",
       "      <td>112.0</td>\n",
       "      <td>6.7</td>\n",
       "      <td>1.2</td>\n",
       "      <td>0.9</td>\n",
       "      <td>7.8</td>\n",
       "      <td>9/9/17 9:00</td>\n",
       "      <td>60.01</td>\n",
       "      <td>149.0</td>\n",
       "    </tr>\n",
       "    <tr>\n",
       "      <th>1</th>\n",
       "      <td>1.1</td>\n",
       "      <td>-95.17</td>\n",
       "      <td>4423564.0</td>\n",
       "      <td>5.7</td>\n",
       "      <td>146.0</td>\n",
       "      <td>5.4</td>\n",
       "      <td>0.9</td>\n",
       "      <td>1.3</td>\n",
       "      <td>6.2</td>\n",
       "      <td>9/9/17 9:15</td>\n",
       "      <td>59.99</td>\n",
       "      <td>108.0</td>\n",
       "    </tr>\n",
       "    <tr>\n",
       "      <th>2</th>\n",
       "      <td>0.9</td>\n",
       "      <td>-93.74</td>\n",
       "      <td>4423595.0</td>\n",
       "      <td>6.6</td>\n",
       "      <td>112.0</td>\n",
       "      <td>6.6</td>\n",
       "      <td>1.4</td>\n",
       "      <td>0.8</td>\n",
       "      <td>7.9</td>\n",
       "      <td>9/9/17 9:30</td>\n",
       "      <td>59.99</td>\n",
       "      <td>152.0</td>\n",
       "    </tr>\n",
       "    <tr>\n",
       "      <th>3</th>\n",
       "      <td>0.7</td>\n",
       "      <td>-94.21</td>\n",
       "      <td>4423624.0</td>\n",
       "      <td>6.7</td>\n",
       "      <td>111.0</td>\n",
       "      <td>6.6</td>\n",
       "      <td>1.0</td>\n",
       "      <td>1.2</td>\n",
       "      <td>8.2</td>\n",
       "      <td>9/9/17 9:45</td>\n",
       "      <td>59.95</td>\n",
       "      <td>121.0</td>\n",
       "    </tr>\n",
       "    <tr>\n",
       "      <th>4</th>\n",
       "      <td>1.0</td>\n",
       "      <td>-94.54</td>\n",
       "      <td>4423654.0</td>\n",
       "      <td>6.0</td>\n",
       "      <td>130.0</td>\n",
       "      <td>6.7</td>\n",
       "      <td>0.6</td>\n",
       "      <td>1.2</td>\n",
       "      <td>6.4</td>\n",
       "      <td>9/9/17 10:00</td>\n",
       "      <td>60.01</td>\n",
       "      <td>115.0</td>\n",
       "    </tr>\n",
       "  </tbody>\n",
       "</table>\n",
       "</div>"
      ],
      "text/plain": [
       "   V1 THD (%)  PF sign total  kWh del (kWh)  I3 THD (%)  kW total (kW)  \\\n",
       "0         1.2         -92.67      4423527.0         6.5          112.0   \n",
       "1         1.1         -95.17      4423564.0         5.7          146.0   \n",
       "2         0.9         -93.74      4423595.0         6.6          112.0   \n",
       "3         0.7         -94.21      4423624.0         6.7          111.0   \n",
       "4         1.0         -94.54      4423654.0         6.0          130.0   \n",
       "\n",
       "   I1 THD (%)  V2 THD (%)  V3 THD (%)  I2 THD (%) time (US/Pacific)  \\\n",
       "0         6.7         1.2         0.9         7.8       9/9/17 9:00   \n",
       "1         5.4         0.9         1.3         6.2       9/9/17 9:15   \n",
       "2         6.6         1.4         0.8         7.9       9/9/17 9:30   \n",
       "3         6.6         1.0         1.2         8.2       9/9/17 9:45   \n",
       "4         6.7         0.6         1.2         6.4      9/9/17 10:00   \n",
       "\n",
       "   Frequency (Hz)  kW demand (kW)  \n",
       "0           60.01           149.0  \n",
       "1           59.99           108.0  \n",
       "2           59.99           152.0  \n",
       "3           59.95           121.0  \n",
       "4           60.01           115.0  "
      ]
     },
     "execution_count": 87,
     "metadata": {},
     "output_type": "execute_result"
    }
   ],
   "source": [
    "foothill_clean.head()"
   ]
  },
  {
   "cell_type": "code",
   "execution_count": 83,
   "metadata": {
    "scrolled": true
   },
   "outputs": [
    {
     "data": {
      "text/plain": [
       "V1 THD (%)           float64\n",
       "PF sign total        float64\n",
       "kWh del (kWh)        float64\n",
       "I3 THD (%)           float64\n",
       "kW total (kW)        float64\n",
       "I1 THD (%)           float64\n",
       "V2 THD (%)           float64\n",
       "V3 THD (%)           float64\n",
       "I2 THD (%)           float64\n",
       "time (US/Pacific)     object\n",
       "Frequency (Hz)       float64\n",
       "kW demand (kW)       float64\n",
       "dtype: object"
      ]
     },
     "execution_count": 83,
     "metadata": {},
     "output_type": "execute_result"
    }
   ],
   "source": [
    "foothill_clean.dtypes"
   ]
  },
  {
   "cell_type": "code",
   "execution_count": 91,
   "metadata": {
    "scrolled": true
   },
   "outputs": [
    {
     "name": "stderr",
     "output_type": "stream",
     "text": [
      "/tmp/ipykernel_24/1208600829.py:1: SettingWithCopyWarning: \n",
      "A value is trying to be set on a copy of a slice from a DataFrame.\n",
      "Try using .loc[row_indexer,col_indexer] = value instead\n",
      "\n",
      "See the caveats in the documentation: https://pandas.pydata.org/pandas-docs/stable/user_guide/indexing.html#returning-a-view-versus-a-copy\n",
      "  foothill_clean['time (US/Pacific)'] = pd.to_datetime(foothill_clean['time (US/Pacific)'])\n"
     ]
    }
   ],
   "source": [
    "foothill_clean['time (US/Pacific)'] = pd.to_datetime(foothill_clean['time (US/Pacific)'])"
   ]
  },
  {
   "cell_type": "code",
   "execution_count": 97,
   "metadata": {},
   "outputs": [
    {
     "name": "stderr",
     "output_type": "stream",
     "text": [
      "/tmp/ipykernel_24/3519549654.py:1: SettingWithCopyWarning: \n",
      "A value is trying to be set on a copy of a slice from a DataFrame.\n",
      "Try using .loc[row_indexer,col_indexer] = value instead\n",
      "\n",
      "See the caveats in the documentation: https://pandas.pydata.org/pandas-docs/stable/user_guide/indexing.html#returning-a-view-versus-a-copy\n",
      "  foothill_clean['time (US/Pacific)'] = foothill_clean['time (US/Pacific)'].dt.tz_localize('UTC').dt.tz_convert('US/Pacific')\n"
     ]
    }
   ],
   "source": [
    "foothill_clean['time (US/Pacific)'] = foothill_clean['time (US/Pacific)'].dt.tz_localize('UTC').dt.tz_convert('US/Pacific')"
   ]
  },
  {
   "cell_type": "markdown",
   "metadata": {},
   "source": [
    "#### Checking and cleaning weather data\n",
    "By analyzing each weather data file, we can see that the first row on the data tells us the units that the data is in. This means that this row will appear 5 times from the 5 different files we joined. We do not want this information in our data so we should remove it. By looking at the data, we can see that unit defining rows have NaN as the `station_ID` the following cell checks this by making sure that sum of NaN station_ID's is 5. Therefore, we can drop rows with Station_ID's that are NaN."
   ]
  },
  {
   "cell_type": "code",
   "execution_count": 69,
   "metadata": {},
   "outputs": [],
   "source": [
    "assert weather_df.Station_ID.isna().sum() == 5\n",
    "weather_df.dropna(subset=['Station_ID'], inplace=True)"
   ]
  },
  {
   "cell_type": "code",
   "execution_count": 70,
   "metadata": {},
   "outputs": [],
   "source": [
    "assert weather_df.Station_ID.isna().sum() == 0"
   ]
  },
  {
   "cell_type": "code",
   "execution_count": 71,
   "metadata": {},
   "outputs": [],
   "source": [
    "weather_clean = weather_df[weather_features]"
   ]
  },
  {
   "cell_type": "code",
   "execution_count": 74,
   "metadata": {},
   "outputs": [
    {
     "data": {
      "text/plain": [
       "pressure_set_1                       object\n",
       "air_temp_set_1                       object\n",
       "relative_humidity_set_1              object\n",
       "wind_speed_set_1                     object\n",
       "precip_accum_fifteen_minute_set_1    object\n",
       "solar_radiation_set_1                object\n",
       "Date_Time                            object\n",
       "dtype: object"
      ]
     },
     "execution_count": 74,
     "metadata": {},
     "output_type": "execute_result"
    }
   ],
   "source": [
    "weather_clean.dtypes"
   ]
  },
  {
   "cell_type": "code",
   "execution_count": 90,
   "metadata": {},
   "outputs": [
    {
     "name": "stderr",
     "output_type": "stream",
     "text": [
      "/tmp/ipykernel_24/4130381102.py:1: SettingWithCopyWarning: \n",
      "A value is trying to be set on a copy of a slice from a DataFrame.\n",
      "Try using .loc[row_indexer,col_indexer] = value instead\n",
      "\n",
      "See the caveats in the documentation: https://pandas.pydata.org/pandas-docs/stable/user_guide/indexing.html#returning-a-view-versus-a-copy\n",
      "  weather_clean['Date_Time'] = pd.to_datetime(weather_clean['Date_Time'])\n"
     ]
    }
   ],
   "source": [
    "weather_clean['Date_Time'] = pd.to_datetime(weather_clean['Date_Time'])"
   ]
  },
  {
   "cell_type": "code",
   "execution_count": 94,
   "metadata": {},
   "outputs": [
    {
     "name": "stderr",
     "output_type": "stream",
     "text": [
      "/tmp/ipykernel_24/4043666733.py:1: SettingWithCopyWarning: \n",
      "A value is trying to be set on a copy of a slice from a DataFrame.\n",
      "Try using .loc[row_indexer,col_indexer] = value instead\n",
      "\n",
      "See the caveats in the documentation: https://pandas.pydata.org/pandas-docs/stable/user_guide/indexing.html#returning-a-view-versus-a-copy\n",
      "  weather_clean['Date_Time'] = weather_clean['Date_Time'].dt.tz_convert('US/Pacific')\n"
     ]
    }
   ],
   "source": [
    "weather_clean['Date_Time'] = weather_clean['Date_Time'].dt.tz_convert('US/Pacific')"
   ]
  },
  {
   "cell_type": "code",
   "execution_count": 99,
   "metadata": {},
   "outputs": [
    {
     "data": {
      "text/plain": [
       "1       2021-09-09 22:00:00-07:00\n",
       "2       2021-09-09 22:15:00-07:00\n",
       "3       2021-09-09 22:30:00-07:00\n",
       "4       2021-09-09 22:45:00-07:00\n",
       "5       2021-09-09 23:00:00-07:00\n",
       "                   ...           \n",
       "34927   2021-09-09 21:00:00-07:00\n",
       "34928   2021-09-09 21:15:00-07:00\n",
       "34929   2021-09-09 21:30:00-07:00\n",
       "34930   2021-09-09 21:45:00-07:00\n",
       "34931   2021-09-09 22:00:00-07:00\n",
       "Name: Date_Time, Length: 174920, dtype: datetime64[ns, US/Pacific]"
      ]
     },
     "execution_count": 99,
     "metadata": {},
     "output_type": "execute_result"
    }
   ],
   "source": [
    "weather_clean['Date_Time'] "
   ]
  },
  {
   "cell_type": "markdown",
   "metadata": {},
   "source": [
    "### Joining the data set on the date time field"
   ]
  },
  {
   "cell_type": "code",
   "execution_count": 100,
   "metadata": {},
   "outputs": [],
   "source": [
    "df_combined = weather_clean.merge(foothill_clean, right_on='time (US/Pacific)', left_on='Date_Time')"
   ]
  },
  {
   "cell_type": "code",
   "execution_count": 101,
   "metadata": {},
   "outputs": [
    {
     "data": {
      "text/plain": [
       "pressure_set_1                       1510\n",
       "air_temp_set_1                        236\n",
       "relative_humidity_set_1              1506\n",
       "wind_speed_set_1                     1506\n",
       "precip_accum_fifteen_minute_set_1    1477\n",
       "solar_radiation_set_1                1526\n",
       "Date_Time                               0\n",
       "V1 THD (%)                              0\n",
       "PF sign total                           0\n",
       "kWh del (kWh)                           0\n",
       "I3 THD (%)                              0\n",
       "kW total (kW)                           0\n",
       "I1 THD (%)                              0\n",
       "V2 THD (%)                              0\n",
       "V3 THD (%)                              0\n",
       "I2 THD (%)                              0\n",
       "time (US/Pacific)                       0\n",
       "Frequency (Hz)                          0\n",
       "kW demand (kW)                          0\n",
       "dtype: int64"
      ]
     },
     "execution_count": 101,
     "metadata": {},
     "output_type": "execute_result"
    }
   ],
   "source": [
    "df_combined.isna().sum()"
   ]
  },
  {
   "cell_type": "code",
   "execution_count": 102,
   "metadata": {},
   "outputs": [
    {
     "data": {
      "text/plain": [
       "(174773, 19)"
      ]
     },
     "execution_count": 102,
     "metadata": {},
     "output_type": "execute_result"
    }
   ],
   "source": [
    "df_combined.shape"
   ]
  },
  {
   "cell_type": "markdown",
   "metadata": {},
   "source": [
    "There are some data points that did not have recorded weather data which is shown in the NaN values for some of the foothill building data avaliable. The initial idea was to interpolate the data using either the median or mean of each column to replace the NaN values. However, after further discussion we decided that would be an inaccurate model of reality since weather data is much more variable seasonally. If given more time, or if we feel the model needs more data points at the end of the project, we will come back and explore this possibility. However, for now we want to ensure simplicty and instead dropped any NaN points. "
   ]
  },
  {
   "cell_type": "code",
   "execution_count": 103,
   "metadata": {},
   "outputs": [
    {
     "data": {
      "text/plain": [
       "(173036, 19)"
      ]
     },
     "execution_count": 103,
     "metadata": {},
     "output_type": "execute_result"
    }
   ],
   "source": [
    "df_combined.dropna(inplace=True)\n",
    "df_combined.shape"
   ]
  },
  {
   "cell_type": "markdown",
   "metadata": {},
   "source": [
    "## Data Summary and Exploratory Data Analysis (10 points)\n",
    "\n",
    "In this section you should provide a tour through some of the basic trends and patterns in your data.  This includes providing initial plots to summarize the data, such as box plots, histograms, trends over time, scatter plots relating one variable or another.  "
   ]
  },
  {
   "cell_type": "markdown",
   "metadata": {},
   "source": [
    "## Forecasting and Prediction Modeling (25 points)\n",
    "\n",
    "This section is where the rubber meets the road.  In it you must:\n",
    "1. Explore at least 3 prediction modeling approaches for each prediction question, ranging from the simple (e.g. linear regression, KNN) to the complex (e.g. SVM, random forests, Lasso).  \n",
    "2. Motivate all your modeling decisions.  This includes parameter choices (e.g., how many folds in k-fold cross validation, what time window you use for averaging your data) as well as model form (e.g., If you use regression trees, why?  If you include nonlinear features in a regression model, why?). \n",
    "1. Carefully describe your cross validation and model selection process.  You should partition your data into training and testing data sets.  The training data set is what you use for cross-validation (i.e. you sample from within it to create folds, etc.).  The testing data set is held to the very end of your efforts, and used to compare qualitatively different models (e.g. OLS vs random forests).\n",
    "4. Very carefully document your workflow.  We will be reading a lot of projects, so we need you to explain each basic step in your analysis.  \n",
    "5. Seek opportunities to write functions allow you to avoid doing things over and over, and that make your code more succinct and readable. "
   ]
  },
  {
   "cell_type": "markdown",
   "metadata": {},
   "source": [
    "## Interpretation and Conclusions (20 points)\n",
    "In this section you must relate your modeling and forecasting results to your original prediction question.  You must:\n",
    "1. Address a resource allocation question.  What do the answers mean? What advice would you give a decision maker on the basis of your results?  How might they allocate their resources differently with the results of your model?  Why should the reader care about your results?\n",
    "2. Discuss caveats and / or reasons your results might be flawed.  No model is perfect, and understanding a model's imperfections is extremely important for the purpose of knowing how to interpret your results.  Often, we know the model output is wrong but we can assign a direction for its bias.  This helps to understand whether or not your answers are conservative.  \n",
    "\n",
    "Shoot for 500-1000 words for this section."
   ]
  },
  {
   "cell_type": "markdown",
   "metadata": {},
   "source": [
    "# ER 131 Data sources (delete this cell from your final project)\n",
    "Many of these links just take you to the main landing page for the data.  Note a number of these links also lead you to many different data sets.\n",
    "\n",
    "## Energy data\n",
    "1. [Integrated Circuit Analysis (ICA) load data from Pacific Gas & Electric (PG&E) company](https://www.pge.com/b2b/distribution-resource-planning/integration-capacity-map.shtml)\n",
    "2. [Cool Climate -- spatially resolved energy and carbon emissions data](https://coolclimate.berkeley.edu/data)\n",
    "3. [Residential Energy Consumption Survey](https://www.eia.gov/consumption/residential/)\n",
    "4. [California Grid Operator market data](http://oasis.caiso.com/mrioasis/logon.do)\n",
    "5. [California Energy Commission data archives -- many different sources of data describing energy production and use in California](https://www.energy.ca.gov/data-reports)\n",
    "5. [Alternative fuels data center](https://afdc.energy.gov/)\n",
    "\n",
    "\n",
    "## Transportation data\n",
    "1. [California Air Resources Board’s Fleet Database](https://arb.ca.gov/emfac/fleet-db)\n",
    "2. [EV Charging Stations Source](https://www.energy.ca.gov/data-reports/energy-insights/zero-emission-vehicle-and-charger-statistics)\n",
    "3. [California vehicle fuel type counts by zip code (there are more years available)](https://www.dmv.ca.gov/portal/uploads/2020/04/MotorVehicleFuelTypes_ZipCode_102018.pdf)\n",
    "4. [Census Bureau means of transport](https://data.census.gov/cedsci/table?q=MEANS%20OF%20TRANSPORTATION%20TO%20WORK%20BY%20VEHICLES&tid=ACSDT1Y2018.B08141&hidePreview=false)\n",
    "4. [Census Bureau number of commuters](https://data.census.gov/cedsci/table?q=vehicle&g=0400000US06&tid=ACSDT1Y2019.B08015&hidePreview=true)\n",
    "4. [Atlas EV Hub](https://www.atlasevhub.com/)\n",
    "\n",
    "## Environmental data \n",
    "1. [Climate Model prediction data](https://cal-adapt.org/data/download/)\n",
    "2. [Water Quality Portal](https://www.waterqualitydata.us/wqp_description/)\n",
    "2. [Methane Plumes Derived from AVIRIS-NG over Point Sources across California, 2016-2017](https://daac.ornl.gov/cgi-bin/dsviewer.pl?ds_id=1727)\n",
    "3. [EPA AirNow pollution data](https://www.epa.gov/outdoor-air-quality-data)\n",
    "\ta. [\"Pre-generated\" files here](https://aqs.epa.gov/aqsweb/airdata/download_files.html)\n",
    "4. [California Department of Water Resources Data Exchange Portal](http://cdec.water.ca.gov/index.html)\n",
    "5. [NOAA Climate data online](https://www.ncdc.noaa.gov/cdo-web/)\n",
    "5. [Methane emitting facilities from US Dept of Commerce](https://daac.ornl.gov/NACP/guides/NACP_Vista_CA_CH4_Inventory.html)\n",
    "4. [California Air Resources Board Emissions Inventory](https://ww3.arb.ca.gov/ei/maps/2017statemap/cntymap.htm)\n",
    "4. [Groundwater level measurements](https://data.cnra.ca.gov/dataset/periodic-groundwater-level-measurements)\n",
    "4. [California Enviroscreen -- includes pollution data by census block](https://oehha.ca.gov/calenviroscreen/report/calenviroscreen-30)\n",
    "5. [NEON Ecological Forecasting Challenge -- provides pre-processed target data for aquatic communities, carbon & water fluxes, tick populations, phenology, and beetle abundance](https://ecoforecast.org/efi-rcn-forecast-challenges/) *Ask Jessica if you have questions about using this data.*\n",
    "\n",
    "\n",
    "## Geographic and census data\n",
    "1. [California County boundaries](https://data.ca.gov/dataset/ca-geographic-boundaries/resource/b0007416-a325-4777-9295-368ea6b710e6)\n",
    "2. [Another CA county boundary dataset](https://catalog.data.gov/dataset/tiger-line-shapefile-2016-state-california-current-county-subdivision-state-based)\n",
    "3. [Census data](https://data.census.gov/cedsci/)\n",
    "\ta. Note these data can be accessed by an API.  [This](https://jtleider.github.io/censusdata/) codebase can help you access the API, which is [here](https://www.census.gov/data/developers.html)\n",
    "2. [Census Data from the US Census Bureau's ACS Demographic and Housing Estimates](https://data.census.gov/cedsci/table?q=United%20States&t=Counts,%20Estimates,%20and%20Projections%3AFamilies%20and%20Living%20Arrangements%3AHousing%3AHousing%20Units%3APopulation%20Total%3APopulations%20and%20People%3ARace%20and%20Ethnicity&g=0400000US06,06%24160000&tid=ACSDP5Y2018.DP05)\n",
    "3. [Labor Force Data](https://www.labormarketinfo.edd.ca.gov/data/industry-employment-and-unemployment-rates-for-counties.html)\n",
    "4. [USGS National Land Cover Database](https://www.mrlc.gov/data?f%5B0%5D=category%3Aland%20cover&f%5B1%5D=year%3A2016)\n",
    "4. [California Enviroscreen -- includes demographic data by census block, derived from census data](https://oehha.ca.gov/calenviroscreen/report/calenviroscreen-30)\n",
    "5. [USAID Demographic and Health Survey Data](https://dhsprogram.com/) *Ask Jessica if you have questions about using this data.*\n",
    "\n",
    "## Other\n",
    "1. [USDA Cow Density Data](https://www.nass.usda.gov/Charts_and_Maps/Cattle/)\n"
   ]
  },
  {
   "cell_type": "code",
   "execution_count": null,
   "metadata": {},
   "outputs": [],
   "source": []
  }
 ],
 "metadata": {
  "kernelspec": {
   "display_name": "Python 3 (ipykernel)",
   "language": "python",
   "name": "python3"
  },
  "language_info": {
   "codemirror_mode": {
    "name": "ipython",
    "version": 3
   },
   "file_extension": ".py",
   "mimetype": "text/x-python",
   "name": "python",
   "nbconvert_exporter": "python",
   "pygments_lexer": "ipython3",
   "version": "3.9.7"
  }
 },
 "nbformat": 4,
 "nbformat_minor": 4
}
